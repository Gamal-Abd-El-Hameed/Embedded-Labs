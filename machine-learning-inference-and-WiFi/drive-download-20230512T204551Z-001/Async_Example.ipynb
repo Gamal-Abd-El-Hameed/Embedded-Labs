{
 "cells": [
  {
   "cell_type": "code",
   "execution_count": 1,
   "id": "bf4bf945",
   "metadata": {},
   "outputs": [
    {
     "name": "stdout",
     "output_type": "stream",
     "text": [
      "Task 1:0\n",
      "Task 1:1\n",
      "Task 1:2\n",
      "Task 1:3\n",
      "Task 2:0\n",
      "Task 2:1\n",
      "Task 2:2\n",
      "Task 2:3\n",
      "Task 3:0\n",
      "Task 3:1\n",
      "Task 3:2\n",
      "Task 3:3\n",
      "Task 4:0\n",
      "Task 4:1\n",
      "Task 4:2\n",
      "Task 4:3\n"
     ]
    },
    {
     "data": {
      "text/plain": [
       "[6, 12, 18, 24]"
      ]
     },
     "execution_count": 1,
     "metadata": {},
     "output_type": "execute_result"
    }
   ],
   "source": [
    "import asyncio\n",
    "async def countAsync(task_no):\n",
    "    for i in range(0,4):\n",
    "        print(f\"Task {task_no}:\" + str(i))\n",
    "    return task_no * 6\n",
    "tasks = []\n",
    "for i in range(0,4):\n",
    "    task = asyncio.create_task(countAsync(i+1))\n",
    "    tasks.append(task)\n",
    "await asyncio.gather(*tasks)"
   ]
  },
  {
   "cell_type": "code",
   "execution_count": null,
   "id": "3aa18cc0",
   "metadata": {},
   "outputs": [],
   "source": []
  }
 ],
 "metadata": {
  "kernelspec": {
   "display_name": "Python 3 (ipykernel)",
   "language": "python",
   "name": "python3"
  },
  "language_info": {
   "codemirror_mode": {
    "name": "ipython",
    "version": 3
   },
   "file_extension": ".py",
   "mimetype": "text/x-python",
   "name": "python",
   "nbconvert_exporter": "python",
   "pygments_lexer": "ipython3",
   "version": "3.10.11"
  }
 },
 "nbformat": 4,
 "nbformat_minor": 5
}
